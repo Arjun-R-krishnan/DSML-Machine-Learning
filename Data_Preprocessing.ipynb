{
  "cells": [
    {
      "cell_type": "markdown",
      "metadata": {
        "id": "view-in-github",
        "colab_type": "text"
      },
      "source": [
        "<a href=\"https://colab.research.google.com/github/Arjun-R-krishnan/DSML-Machine-Learning/blob/main/Data_Preprocessing.ipynb\" target=\"_parent\"><img src=\"https://colab.research.google.com/assets/colab-badge.svg\" alt=\"Open In Colab\"/></a>"
      ]
    },
    {
      "cell_type": "markdown",
      "id": "207f40da-574f-4078-b3be-bc58b63fd555",
      "metadata": {
        "id": "207f40da-574f-4078-b3be-bc58b63fd555"
      },
      "source": [
        "## Imorting Necessary Libraries"
      ]
    },
    {
      "cell_type": "code",
      "execution_count": null,
      "id": "37c8b874-37a7-4df1-819e-26b71c4e41a4",
      "metadata": {
        "id": "37c8b874-37a7-4df1-819e-26b71c4e41a4"
      },
      "outputs": [],
      "source": [
        "import pandas as pd\n",
        "import numpy as np\n",
        "import matplotlib.pyplot as plt\n",
        "import seaborn as sns"
      ]
    },
    {
      "cell_type": "markdown",
      "id": "91d52fb5-c527-47b6-88f7-69014510e22f",
      "metadata": {
        "id": "91d52fb5-c527-47b6-88f7-69014510e22f"
      },
      "source": [
        "## Loading Dataset"
      ]
    },
    {
      "cell_type": "code",
      "execution_count": null,
      "id": "bc2f0dc7-31ef-46e7-bd68-d82f419a0620",
      "metadata": {
        "id": "bc2f0dc7-31ef-46e7-bd68-d82f419a0620"
      },
      "outputs": [],
      "source": [
        "df=pd.read_csv('Employee.csv')"
      ]
    },
    {
      "cell_type": "markdown",
      "id": "e07ceb44-97ef-4105-84e3-93467f136173",
      "metadata": {
        "id": "e07ceb44-97ef-4105-84e3-93467f136173"
      },
      "source": [
        "## Performimg Basic EDA"
      ]
    },
    {
      "cell_type": "code",
      "execution_count": null,
      "id": "3a086ce5-ee02-4e07-ba36-68b4ef29493d",
      "metadata": {
        "id": "3a086ce5-ee02-4e07-ba36-68b4ef29493d",
        "outputId": "5345d863-e17f-4346-9c19-14c34982f312"
      },
      "outputs": [
        {
          "data": {
            "text/html": [
              "<div>\n",
              "<style scoped>\n",
              "    .dataframe tbody tr th:only-of-type {\n",
              "        vertical-align: middle;\n",
              "    }\n",
              "\n",
              "    .dataframe tbody tr th {\n",
              "        vertical-align: top;\n",
              "    }\n",
              "\n",
              "    .dataframe thead th {\n",
              "        text-align: right;\n",
              "    }\n",
              "</style>\n",
              "<table border=\"1\" class=\"dataframe\">\n",
              "  <thead>\n",
              "    <tr style=\"text-align: right;\">\n",
              "      <th></th>\n",
              "      <th>Company</th>\n",
              "      <th>Age</th>\n",
              "      <th>Salary</th>\n",
              "      <th>Place</th>\n",
              "      <th>Country</th>\n",
              "      <th>Gender</th>\n",
              "    </tr>\n",
              "  </thead>\n",
              "  <tbody>\n",
              "    <tr>\n",
              "      <th>0</th>\n",
              "      <td>TCS</td>\n",
              "      <td>20.0</td>\n",
              "      <td>NaN</td>\n",
              "      <td>Chennai</td>\n",
              "      <td>India</td>\n",
              "      <td>0</td>\n",
              "    </tr>\n",
              "    <tr>\n",
              "      <th>1</th>\n",
              "      <td>Infosys</td>\n",
              "      <td>30.0</td>\n",
              "      <td>NaN</td>\n",
              "      <td>Mumbai</td>\n",
              "      <td>India</td>\n",
              "      <td>0</td>\n",
              "    </tr>\n",
              "    <tr>\n",
              "      <th>2</th>\n",
              "      <td>TCS</td>\n",
              "      <td>35.0</td>\n",
              "      <td>2300.0</td>\n",
              "      <td>Calcutta</td>\n",
              "      <td>India</td>\n",
              "      <td>0</td>\n",
              "    </tr>\n",
              "    <tr>\n",
              "      <th>3</th>\n",
              "      <td>Infosys</td>\n",
              "      <td>40.0</td>\n",
              "      <td>3000.0</td>\n",
              "      <td>Delhi</td>\n",
              "      <td>India</td>\n",
              "      <td>0</td>\n",
              "    </tr>\n",
              "    <tr>\n",
              "      <th>4</th>\n",
              "      <td>TCS</td>\n",
              "      <td>23.0</td>\n",
              "      <td>4000.0</td>\n",
              "      <td>Mumbai</td>\n",
              "      <td>India</td>\n",
              "      <td>0</td>\n",
              "    </tr>\n",
              "  </tbody>\n",
              "</table>\n",
              "</div>"
            ],
            "text/plain": [
              "   Company   Age  Salary     Place Country  Gender\n",
              "0      TCS  20.0     NaN   Chennai   India       0\n",
              "1  Infosys  30.0     NaN    Mumbai   India       0\n",
              "2      TCS  35.0  2300.0  Calcutta   India       0\n",
              "3  Infosys  40.0  3000.0     Delhi   India       0\n",
              "4      TCS  23.0  4000.0    Mumbai   India       0"
            ]
          },
          "execution_count": 3,
          "metadata": {},
          "output_type": "execute_result"
        }
      ],
      "source": [
        "df.head()"
      ]
    },
    {
      "cell_type": "code",
      "execution_count": null,
      "id": "b7d549e4-b13f-4fcd-b544-45f62a2d969d",
      "metadata": {
        "id": "b7d549e4-b13f-4fcd-b544-45f62a2d969d",
        "outputId": "e8635953-7eff-4fb6-844e-a79a59a7badb"
      },
      "outputs": [
        {
          "name": "stdout",
          "output_type": "stream",
          "text": [
            "<class 'pandas.core.frame.DataFrame'>\n",
            "RangeIndex: 148 entries, 0 to 147\n",
            "Data columns (total 6 columns):\n",
            " #   Column   Non-Null Count  Dtype  \n",
            "---  ------   --------------  -----  \n",
            " 0   Company  140 non-null    object \n",
            " 1   Age      130 non-null    float64\n",
            " 2   Salary   124 non-null    float64\n",
            " 3   Place    134 non-null    object \n",
            " 4   Country  148 non-null    object \n",
            " 5   Gender   148 non-null    int64  \n",
            "dtypes: float64(2), int64(1), object(3)\n",
            "memory usage: 7.1+ KB\n"
          ]
        }
      ],
      "source": [
        "df.info()                                                               #checking summary of the DataFrame."
      ]
    },
    {
      "cell_type": "markdown",
      "id": "82579af3-9a6b-4948-a38c-dd3de67483a9",
      "metadata": {
        "id": "82579af3-9a6b-4948-a38c-dd3de67483a9"
      },
      "source": [
        "## Checking unique values in each column and finding the number of unique values"
      ]
    },
    {
      "cell_type": "code",
      "execution_count": null,
      "id": "a35d138e-fe44-4af6-aa22-7ddaa22d8962",
      "metadata": {
        "id": "a35d138e-fe44-4af6-aa22-7ddaa22d8962"
      },
      "outputs": [],
      "source": [
        "def unique_values(df):                                       # defining function for finding unique values in a column\n",
        "    for col in df.columns:\n",
        "        unique_val = df[col].unique()\n",
        "        length_of_uinque_values = len( unique_val)\n",
        "        print(f\"unique values in column {col} :\\n {unique_val} \\n {col} consists of { length_of_uinque_values} unique values\")"
      ]
    },
    {
      "cell_type": "code",
      "execution_count": null,
      "id": "b34b7bfb-b38d-4537-a466-d0f1e870a0bb",
      "metadata": {
        "id": "b34b7bfb-b38d-4537-a466-d0f1e870a0bb",
        "outputId": "d0a9b31b-c5b2-4f51-ac81-2cf1bbe90efe"
      },
      "outputs": [
        {
          "name": "stdout",
          "output_type": "stream",
          "text": [
            "unique values in column Company :\n",
            " ['TCS' 'Infosys' 'CTS' nan 'Tata Consultancy Services' 'Congnizant'\n",
            " 'Infosys Pvt Lmt'] \n",
            " Company consists of 7 unique values\n",
            "unique values in column Age :\n",
            " [20. 30. 35. 40. 23. nan 34. 45. 18. 22. 32. 37. 50. 21. 46. 36. 26. 41.\n",
            " 24. 25. 43. 19. 38. 51. 31. 44. 33. 17.  0. 54.] \n",
            " Age consists of 30 unique values\n",
            "unique values in column Salary :\n",
            " [  nan 2300. 3000. 4000. 5000. 6000. 7000. 8000. 9000. 1089. 1234. 3030.\n",
            " 3045. 3184. 4824. 5835. 7084. 8943. 8345. 9284. 9876. 2034. 7654. 2934.\n",
            " 4034. 5034. 8202. 9024. 4345. 6544. 6543. 3234. 4324. 5435. 5555. 8787.\n",
            " 3454. 5654. 5009. 5098. 3033.] \n",
            " Salary consists of 41 unique values\n",
            "unique values in column Place :\n",
            " ['Chennai' 'Mumbai' 'Calcutta' 'Delhi' 'Podicherry' 'Cochin' nan 'Noida'\n",
            " 'Hyderabad' 'Bhopal' 'Nagpur' 'Pune'] \n",
            " Place consists of 12 unique values\n",
            "unique values in column Country :\n",
            " ['India'] \n",
            " Country consists of 1 unique values\n",
            "unique values in column Gender :\n",
            " [0 1] \n",
            " Gender consists of 2 unique values\n"
          ]
        }
      ],
      "source": [
        "unique_values(df)"
      ]
    },
    {
      "cell_type": "markdown",
      "id": "5918674a-6d16-4b80-b511-dce089e87151",
      "metadata": {
        "id": "5918674a-6d16-4b80-b511-dce089e87151"
      },
      "source": [
        "## Renaming of columns"
      ]
    },
    {
      "cell_type": "code",
      "execution_count": null,
      "id": "5bba4780-fa25-4638-8cde-43d7d0bd3618",
      "metadata": {
        "id": "5bba4780-fa25-4638-8cde-43d7d0bd3618"
      },
      "outputs": [],
      "source": [
        "df.rename(columns={'Age':'Employee Age','Salary':'Employee Salary'} ,inplace =True)    # renamed Age and Salary coulmns"
      ]
    },
    {
      "cell_type": "code",
      "execution_count": null,
      "id": "a8d14b65-beff-4929-859a-42714575a410",
      "metadata": {
        "id": "a8d14b65-beff-4929-859a-42714575a410"
      },
      "outputs": [],
      "source": [
        "df['Company'] = df['Company'].replace('Tata Consultancy Services','TCS')               # renaming Tata Consultancy Services to TCS\n",
        "df['Company'] = df['Company'].replace('Infosys Pvt Lmt','Infosys')                     # renamingInfosys Pvt Lmt','Infosys\n",
        "df['Company'] = df['Company'].replace('Congnizant','CTS')                                          # renaming Congnizant to CTS"
      ]
    },
    {
      "cell_type": "code",
      "execution_count": null,
      "id": "57c9784b-c1de-4d14-aa12-06d06b7170f5",
      "metadata": {
        "id": "57c9784b-c1de-4d14-aa12-06d06b7170f5",
        "outputId": "94d33201-7a70-4132-94cf-2ee12975ba52"
      },
      "outputs": [
        {
          "name": "stdout",
          "output_type": "stream",
          "text": [
            "unique values in column Company :\n",
            " ['TCS' 'Infosys' 'CTS' nan] \n",
            " Company consists of 4 unique values\n",
            "unique values in column Employee Age :\n",
            " [20. 30. 35. 40. 23. nan 34. 45. 18. 22. 32. 37. 50. 21. 46. 36. 26. 41.\n",
            " 24. 25. 43. 19. 38. 51. 31. 44. 33. 17.  0. 54.] \n",
            " Employee Age consists of 30 unique values\n",
            "unique values in column Employee Salary :\n",
            " [  nan 2300. 3000. 4000. 5000. 6000. 7000. 8000. 9000. 1089. 1234. 3030.\n",
            " 3045. 3184. 4824. 5835. 7084. 8943. 8345. 9284. 9876. 2034. 7654. 2934.\n",
            " 4034. 5034. 8202. 9024. 4345. 6544. 6543. 3234. 4324. 5435. 5555. 8787.\n",
            " 3454. 5654. 5009. 5098. 3033.] \n",
            " Employee Salary consists of 41 unique values\n",
            "unique values in column Place :\n",
            " ['Chennai' 'Mumbai' 'Calcutta' 'Delhi' 'Podicherry' 'Cochin' nan 'Noida'\n",
            " 'Hyderabad' 'Bhopal' 'Nagpur' 'Pune'] \n",
            " Place consists of 12 unique values\n",
            "unique values in column Country :\n",
            " ['India'] \n",
            " Country consists of 1 unique values\n",
            "unique values in column Gender :\n",
            " [0 1] \n",
            " Gender consists of 2 unique values\n"
          ]
        }
      ],
      "source": [
        "unique_values(df)                                              # checking unique values afer changing names"
      ]
    },
    {
      "cell_type": "markdown",
      "id": "fe6b0250-c70f-48c7-917d-181598caef43",
      "metadata": {
        "id": "fe6b0250-c70f-48c7-917d-181598caef43"
      },
      "source": [
        "## Data Cleaning\n",
        "Find the missing and inappropriate values, treat them appropriately.\n",
        "\n",
        "Remove all duplicate rows.\n",
        "\n",
        "Find the outliers\n",
        ".\n",
        "Replace the value 0 in age as N\n",
        "aN\n",
        "Treat the null values in all columns using any measures(removing/ replace the values with mean/median/mode)"
      ]
    },
    {
      "cell_type": "code",
      "execution_count": null,
      "id": "610bf998-0728-4ca4-9c4b-68ba2373ad20",
      "metadata": {
        "id": "610bf998-0728-4ca4-9c4b-68ba2373ad20",
        "outputId": "c6dcb16e-807d-46b3-eac7-d2e958c4d67b"
      },
      "outputs": [
        {
          "data": {
            "text/plain": [
              "Company             8\n",
              "Employee Age       18\n",
              "Employee Salary    24\n",
              "Place              14\n",
              "Country             0\n",
              "Gender              0\n",
              "dtype: int64"
            ]
          },
          "execution_count": 11,
          "metadata": {},
          "output_type": "execute_result"
        }
      ],
      "source": [
        "df.isnull().sum()                                         # checking null values"
      ]
    },
    {
      "cell_type": "code",
      "execution_count": null,
      "id": "db8755cc-056b-4b77-b8dd-4b20a924f363",
      "metadata": {
        "id": "db8755cc-056b-4b77-b8dd-4b20a924f363"
      },
      "outputs": [],
      "source": [
        "df['Company'] = df['Company'].fillna('Unknown')           # changing the NaN values to Unknown\n",
        "df['Place'] = df['Place'].fillna('Unknown')"
      ]
    },
    {
      "cell_type": "code",
      "execution_count": null,
      "id": "590c60aa-8c68-463e-a09c-05d8c462179b",
      "metadata": {
        "id": "590c60aa-8c68-463e-a09c-05d8c462179b"
      },
      "outputs": [],
      "source": [
        "df.drop_duplicates(inplace = True)                        # Removing duplicate values"
      ]
    },
    {
      "cell_type": "code",
      "execution_count": null,
      "id": "98a596ed-c446-4457-8c7e-e4097dea48cd",
      "metadata": {
        "id": "98a596ed-c446-4457-8c7e-e4097dea48cd"
      },
      "outputs": [],
      "source": [
        "df['Employee Age'].replace(0,np.nan,inplace = True)       # Replacing  0 in Emloyee Age as Nan"
      ]
    },
    {
      "cell_type": "code",
      "execution_count": null,
      "id": "f44650cb-f40d-45b1-8165-cfe5db2686ae",
      "metadata": {
        "id": "f44650cb-f40d-45b1-8165-cfe5db2686ae"
      },
      "outputs": [],
      "source": [
        "def replace_with_median(df,col):                          # Defining function for replacing null values with median\n",
        "    df[col].fillna(df[col].median(),inplace = True)\n",
        "    return df"
      ]
    },
    {
      "cell_type": "code",
      "execution_count": null,
      "id": "82f9241a-e0c9-49c2-90a6-270d664fcce2",
      "metadata": {
        "id": "82f9241a-e0c9-49c2-90a6-270d664fcce2",
        "outputId": "837579b1-2bec-4711-9c6e-a8e896e29f4f"
      },
      "outputs": [
        {
          "data": {
            "text/html": [
              "<div>\n",
              "<style scoped>\n",
              "    .dataframe tbody tr th:only-of-type {\n",
              "        vertical-align: middle;\n",
              "    }\n",
              "\n",
              "    .dataframe tbody tr th {\n",
              "        vertical-align: top;\n",
              "    }\n",
              "\n",
              "    .dataframe thead th {\n",
              "        text-align: right;\n",
              "    }\n",
              "</style>\n",
              "<table border=\"1\" class=\"dataframe\">\n",
              "  <thead>\n",
              "    <tr style=\"text-align: right;\">\n",
              "      <th></th>\n",
              "      <th>Company</th>\n",
              "      <th>Employee Age</th>\n",
              "      <th>Employee Salary</th>\n",
              "      <th>Place</th>\n",
              "      <th>Country</th>\n",
              "      <th>Gender</th>\n",
              "    </tr>\n",
              "  </thead>\n",
              "  <tbody>\n",
              "    <tr>\n",
              "      <th>0</th>\n",
              "      <td>TCS</td>\n",
              "      <td>20.0</td>\n",
              "      <td>NaN</td>\n",
              "      <td>Chennai</td>\n",
              "      <td>India</td>\n",
              "      <td>0</td>\n",
              "    </tr>\n",
              "    <tr>\n",
              "      <th>1</th>\n",
              "      <td>Infosys</td>\n",
              "      <td>30.0</td>\n",
              "      <td>NaN</td>\n",
              "      <td>Mumbai</td>\n",
              "      <td>India</td>\n",
              "      <td>0</td>\n",
              "    </tr>\n",
              "    <tr>\n",
              "      <th>2</th>\n",
              "      <td>TCS</td>\n",
              "      <td>35.0</td>\n",
              "      <td>2300.0</td>\n",
              "      <td>Calcutta</td>\n",
              "      <td>India</td>\n",
              "      <td>0</td>\n",
              "    </tr>\n",
              "    <tr>\n",
              "      <th>3</th>\n",
              "      <td>Infosys</td>\n",
              "      <td>40.0</td>\n",
              "      <td>3000.0</td>\n",
              "      <td>Delhi</td>\n",
              "      <td>India</td>\n",
              "      <td>0</td>\n",
              "    </tr>\n",
              "    <tr>\n",
              "      <th>4</th>\n",
              "      <td>TCS</td>\n",
              "      <td>23.0</td>\n",
              "      <td>4000.0</td>\n",
              "      <td>Mumbai</td>\n",
              "      <td>India</td>\n",
              "      <td>0</td>\n",
              "    </tr>\n",
              "    <tr>\n",
              "      <th>...</th>\n",
              "      <td>...</td>\n",
              "      <td>...</td>\n",
              "      <td>...</td>\n",
              "      <td>...</td>\n",
              "      <td>...</td>\n",
              "      <td>...</td>\n",
              "    </tr>\n",
              "    <tr>\n",
              "      <th>142</th>\n",
              "      <td>Infosys</td>\n",
              "      <td>22.0</td>\n",
              "      <td>8202.0</td>\n",
              "      <td>Mumbai</td>\n",
              "      <td>India</td>\n",
              "      <td>0</td>\n",
              "    </tr>\n",
              "    <tr>\n",
              "      <th>143</th>\n",
              "      <td>TCS</td>\n",
              "      <td>33.0</td>\n",
              "      <td>9024.0</td>\n",
              "      <td>Calcutta</td>\n",
              "      <td>India</td>\n",
              "      <td>1</td>\n",
              "    </tr>\n",
              "    <tr>\n",
              "      <th>145</th>\n",
              "      <td>Infosys</td>\n",
              "      <td>44.0</td>\n",
              "      <td>4034.0</td>\n",
              "      <td>Delhi</td>\n",
              "      <td>India</td>\n",
              "      <td>1</td>\n",
              "    </tr>\n",
              "    <tr>\n",
              "      <th>146</th>\n",
              "      <td>TCS</td>\n",
              "      <td>33.0</td>\n",
              "      <td>5034.0</td>\n",
              "      <td>Mumbai</td>\n",
              "      <td>India</td>\n",
              "      <td>1</td>\n",
              "    </tr>\n",
              "    <tr>\n",
              "      <th>147</th>\n",
              "      <td>Infosys</td>\n",
              "      <td>22.0</td>\n",
              "      <td>8202.0</td>\n",
              "      <td>Cochin</td>\n",
              "      <td>India</td>\n",
              "      <td>0</td>\n",
              "    </tr>\n",
              "  </tbody>\n",
              "</table>\n",
              "<p>144 rows × 6 columns</p>\n",
              "</div>"
            ],
            "text/plain": [
              "     Company  Employee Age  Employee Salary     Place Country  Gender\n",
              "0        TCS          20.0              NaN   Chennai   India       0\n",
              "1    Infosys          30.0              NaN    Mumbai   India       0\n",
              "2        TCS          35.0           2300.0  Calcutta   India       0\n",
              "3    Infosys          40.0           3000.0     Delhi   India       0\n",
              "4        TCS          23.0           4000.0    Mumbai   India       0\n",
              "..       ...           ...              ...       ...     ...     ...\n",
              "142  Infosys          22.0           8202.0    Mumbai   India       0\n",
              "143      TCS          33.0           9024.0  Calcutta   India       1\n",
              "145  Infosys          44.0           4034.0     Delhi   India       1\n",
              "146      TCS          33.0           5034.0    Mumbai   India       1\n",
              "147  Infosys          22.0           8202.0    Cochin   India       0\n",
              "\n",
              "[144 rows x 6 columns]"
            ]
          },
          "execution_count": 16,
          "metadata": {},
          "output_type": "execute_result"
        }
      ],
      "source": [
        "replace_with_median(df,'Employee Age')                     # Replacing null values in Employee Age column using function"
      ]
    },
    {
      "cell_type": "code",
      "execution_count": null,
      "id": "1115f34d-480e-43e8-b308-0fb45e4a1a1f",
      "metadata": {
        "id": "1115f34d-480e-43e8-b308-0fb45e4a1a1f",
        "outputId": "5c7bfd01-700c-4380-e3f3-810c97b9de94"
      },
      "outputs": [
        {
          "data": {
            "text/html": [
              "<div>\n",
              "<style scoped>\n",
              "    .dataframe tbody tr th:only-of-type {\n",
              "        vertical-align: middle;\n",
              "    }\n",
              "\n",
              "    .dataframe tbody tr th {\n",
              "        vertical-align: top;\n",
              "    }\n",
              "\n",
              "    .dataframe thead th {\n",
              "        text-align: right;\n",
              "    }\n",
              "</style>\n",
              "<table border=\"1\" class=\"dataframe\">\n",
              "  <thead>\n",
              "    <tr style=\"text-align: right;\">\n",
              "      <th></th>\n",
              "      <th>Company</th>\n",
              "      <th>Employee Age</th>\n",
              "      <th>Employee Salary</th>\n",
              "      <th>Place</th>\n",
              "      <th>Country</th>\n",
              "      <th>Gender</th>\n",
              "    </tr>\n",
              "  </thead>\n",
              "  <tbody>\n",
              "    <tr>\n",
              "      <th>0</th>\n",
              "      <td>TCS</td>\n",
              "      <td>20.0</td>\n",
              "      <td>5000.0</td>\n",
              "      <td>Chennai</td>\n",
              "      <td>India</td>\n",
              "      <td>0</td>\n",
              "    </tr>\n",
              "    <tr>\n",
              "      <th>1</th>\n",
              "      <td>Infosys</td>\n",
              "      <td>30.0</td>\n",
              "      <td>5000.0</td>\n",
              "      <td>Mumbai</td>\n",
              "      <td>India</td>\n",
              "      <td>0</td>\n",
              "    </tr>\n",
              "    <tr>\n",
              "      <th>2</th>\n",
              "      <td>TCS</td>\n",
              "      <td>35.0</td>\n",
              "      <td>2300.0</td>\n",
              "      <td>Calcutta</td>\n",
              "      <td>India</td>\n",
              "      <td>0</td>\n",
              "    </tr>\n",
              "    <tr>\n",
              "      <th>3</th>\n",
              "      <td>Infosys</td>\n",
              "      <td>40.0</td>\n",
              "      <td>3000.0</td>\n",
              "      <td>Delhi</td>\n",
              "      <td>India</td>\n",
              "      <td>0</td>\n",
              "    </tr>\n",
              "    <tr>\n",
              "      <th>4</th>\n",
              "      <td>TCS</td>\n",
              "      <td>23.0</td>\n",
              "      <td>4000.0</td>\n",
              "      <td>Mumbai</td>\n",
              "      <td>India</td>\n",
              "      <td>0</td>\n",
              "    </tr>\n",
              "    <tr>\n",
              "      <th>...</th>\n",
              "      <td>...</td>\n",
              "      <td>...</td>\n",
              "      <td>...</td>\n",
              "      <td>...</td>\n",
              "      <td>...</td>\n",
              "      <td>...</td>\n",
              "    </tr>\n",
              "    <tr>\n",
              "      <th>142</th>\n",
              "      <td>Infosys</td>\n",
              "      <td>22.0</td>\n",
              "      <td>8202.0</td>\n",
              "      <td>Mumbai</td>\n",
              "      <td>India</td>\n",
              "      <td>0</td>\n",
              "    </tr>\n",
              "    <tr>\n",
              "      <th>143</th>\n",
              "      <td>TCS</td>\n",
              "      <td>33.0</td>\n",
              "      <td>9024.0</td>\n",
              "      <td>Calcutta</td>\n",
              "      <td>India</td>\n",
              "      <td>1</td>\n",
              "    </tr>\n",
              "    <tr>\n",
              "      <th>145</th>\n",
              "      <td>Infosys</td>\n",
              "      <td>44.0</td>\n",
              "      <td>4034.0</td>\n",
              "      <td>Delhi</td>\n",
              "      <td>India</td>\n",
              "      <td>1</td>\n",
              "    </tr>\n",
              "    <tr>\n",
              "      <th>146</th>\n",
              "      <td>TCS</td>\n",
              "      <td>33.0</td>\n",
              "      <td>5034.0</td>\n",
              "      <td>Mumbai</td>\n",
              "      <td>India</td>\n",
              "      <td>1</td>\n",
              "    </tr>\n",
              "    <tr>\n",
              "      <th>147</th>\n",
              "      <td>Infosys</td>\n",
              "      <td>22.0</td>\n",
              "      <td>8202.0</td>\n",
              "      <td>Cochin</td>\n",
              "      <td>India</td>\n",
              "      <td>0</td>\n",
              "    </tr>\n",
              "  </tbody>\n",
              "</table>\n",
              "<p>144 rows × 6 columns</p>\n",
              "</div>"
            ],
            "text/plain": [
              "     Company  Employee Age  Employee Salary     Place Country  Gender\n",
              "0        TCS          20.0           5000.0   Chennai   India       0\n",
              "1    Infosys          30.0           5000.0    Mumbai   India       0\n",
              "2        TCS          35.0           2300.0  Calcutta   India       0\n",
              "3    Infosys          40.0           3000.0     Delhi   India       0\n",
              "4        TCS          23.0           4000.0    Mumbai   India       0\n",
              "..       ...           ...              ...       ...     ...     ...\n",
              "142  Infosys          22.0           8202.0    Mumbai   India       0\n",
              "143      TCS          33.0           9024.0  Calcutta   India       1\n",
              "145  Infosys          44.0           4034.0     Delhi   India       1\n",
              "146      TCS          33.0           5034.0    Mumbai   India       1\n",
              "147  Infosys          22.0           8202.0    Cochin   India       0\n",
              "\n",
              "[144 rows x 6 columns]"
            ]
          },
          "execution_count": 17,
          "metadata": {},
          "output_type": "execute_result"
        }
      ],
      "source": [
        "replace_with_median(df,'Employee Salary')                       # Replacing null values in Employee Age column using function"
      ]
    },
    {
      "cell_type": "code",
      "execution_count": null,
      "id": "d7848657-185c-413e-862c-a3e1fd9332e4",
      "metadata": {
        "id": "d7848657-185c-413e-862c-a3e1fd9332e4"
      },
      "outputs": [],
      "source": [
        "df = df.reset_index(drop=True)                                 # Resetting index"
      ]
    },
    {
      "cell_type": "code",
      "execution_count": null,
      "id": "bfad9780-c3aa-4d28-9ab8-dd2ca5ec98f7",
      "metadata": {
        "id": "bfad9780-c3aa-4d28-9ab8-dd2ca5ec98f7",
        "outputId": "6c507bfa-6c66-4075-a48f-badbffefa803"
      },
      "outputs": [
        {
          "data": {
            "text/plain": [
              "Company            0\n",
              "Employee Age       0\n",
              "Employee Salary    0\n",
              "Place              0\n",
              "Country            0\n",
              "Gender             0\n",
              "dtype: int64"
            ]
          },
          "execution_count": 19,
          "metadata": {},
          "output_type": "execute_result"
        }
      ],
      "source": [
        "df.isnull().sum()                                             # Checking the count of null values in the dataset"
      ]
    },
    {
      "cell_type": "code",
      "execution_count": null,
      "id": "6f3ec272-9a75-4ef5-893f-5f36b3705fad",
      "metadata": {
        "id": "6f3ec272-9a75-4ef5-893f-5f36b3705fad"
      },
      "outputs": [],
      "source": [
        "df = df[~(df == 'Unknown').any(axis=1)]                        # Drop rows that contain the value \"unknown\""
      ]
    },
    {
      "cell_type": "code",
      "execution_count": null,
      "id": "e26de8ea-fff9-42a6-be53-3cd789e19ff1",
      "metadata": {
        "id": "e26de8ea-fff9-42a6-be53-3cd789e19ff1",
        "outputId": "5752fced-7fec-4f05-cadd-fb8ccb390c37"
      },
      "outputs": [
        {
          "name": "stdout",
          "output_type": "stream",
          "text": [
            "unique values in column Company :\n",
            " ['TCS' 'Infosys' 'CTS'] \n",
            " Company consists of 3 unique values\n",
            "unique values in column Employee Age :\n",
            " [20. 30. 35. 40. 23. 33. 34. 45. 18. 22. 32. 37. 50. 21. 46. 41. 24. 43.\n",
            " 19. 38. 51. 31. 44. 26. 17. 36. 54.] \n",
            " Employee Age consists of 27 unique values\n",
            "unique values in column Employee Salary :\n",
            " [5000. 2300. 3000. 4000. 6000. 7000. 8000. 9000. 1089. 1234. 3030. 3045.\n",
            " 3184. 4824. 5835. 7084. 8943. 8345. 9284. 9876. 2034. 7654. 2934. 4034.\n",
            " 4345. 6544. 5034. 8202. 9024. 3234. 4324. 5435. 5555. 8787. 5098. 3033.] \n",
            " Employee Salary consists of 36 unique values\n",
            "unique values in column Place :\n",
            " ['Chennai' 'Mumbai' 'Calcutta' 'Delhi' 'Podicherry' 'Cochin' 'Noida'\n",
            " 'Hyderabad' 'Bhopal' 'Nagpur' 'Pune'] \n",
            " Place consists of 11 unique values\n",
            "unique values in column Country :\n",
            " ['India'] \n",
            " Country consists of 1 unique values\n",
            "unique values in column Gender :\n",
            " [0 1] \n",
            " Gender consists of 2 unique values\n"
          ]
        }
      ],
      "source": [
        "unique_values(df)                                              # checking unique values after removing Unknown from Company and Place"
      ]
    },
    {
      "cell_type": "markdown",
      "id": "947d16c8-f701-4204-a3ea-2f176a81fb26",
      "metadata": {
        "id": "947d16c8-f701-4204-a3ea-2f176a81fb26"
      },
      "source": [
        "## Finding OutLiers"
      ]
    },
    {
      "cell_type": "code",
      "execution_count": null,
      "id": "63ce1d91-0a69-4606-a8b7-460cc54c51d6",
      "metadata": {
        "id": "63ce1d91-0a69-4606-a8b7-460cc54c51d6"
      },
      "outputs": [],
      "source": [
        "def find_outliers(df,col):                                              # defining function to find outlier using IQR method\n",
        "    Q1 = df[col].quantile(0.25)\n",
        "    Q3 = df[col].quantile(0.75)\n",
        "    IQR  = Q3 - Q1\n",
        "    lower_bound = Q1 - (1.5 * IQR)\n",
        "    upper_bound = Q3 + (1.5* IQR)\n",
        "    outliers = df[(df[col]<lower_bound) | (df[col] > upper_bound)]\n",
        "    return outliers"
      ]
    },
    {
      "cell_type": "code",
      "execution_count": null,
      "id": "929b3cae-20e5-43a3-aca6-0ff9e9cc78a4",
      "metadata": {
        "id": "929b3cae-20e5-43a3-aca6-0ff9e9cc78a4"
      },
      "outputs": [],
      "source": [
        "float_cols =  df.select_dtypes(include=['float64']).columns             # selecting numerical columns for finding outliers"
      ]
    },
    {
      "cell_type": "code",
      "execution_count": null,
      "id": "0059064d-7511-41f2-95ff-c9f3a54d9770",
      "metadata": {
        "id": "0059064d-7511-41f2-95ff-c9f3a54d9770",
        "outputId": "422e5864-001f-4afa-ca76-75e6b07f33ce"
      },
      "outputs": [
        {
          "name": "stdout",
          "output_type": "stream",
          "text": [
            "outliers in Employee Age:\n",
            " Empty DataFrame\n",
            "Columns: [Company, Employee Age, Employee Salary, Place, Country, Gender]\n",
            "Index: []\n",
            "outliers in Employee Salary:\n",
            " Empty DataFrame\n",
            "Columns: [Company, Employee Age, Employee Salary, Place, Country, Gender]\n",
            "Index: []\n"
          ]
        }
      ],
      "source": [
        "for col in float_cols:                                                   # checking ouliers using for loop\n",
        "    df=df\n",
        "    Outliers=find_outliers(df,col)\n",
        "    print(f\"outliers in {col}:\\n {Outliers}\")\n"
      ]
    },
    {
      "cell_type": "markdown",
      "id": "98a22256-318b-46ca-b0e8-38759f44e090",
      "metadata": {
        "id": "98a22256-318b-46ca-b0e8-38759f44e090"
      },
      "source": [
        "## Checking outliers using boxplot"
      ]
    },
    {
      "cell_type": "code",
      "execution_count": null,
      "id": "645b93e4-31c6-469b-b7c7-7910e29b2035",
      "metadata": {
        "id": "645b93e4-31c6-469b-b7c7-7910e29b2035",
        "outputId": "969bf79f-726d-480f-91bb-f33385419531"
      },
      "outputs": [
        {
          "data": {
            "text/plain": [
              "<Axes: >"
            ]
          },
          "execution_count": 25,
          "metadata": {},
          "output_type": "execute_result"
        },
        {
          "data": {
            "image/png": "[encoded data removed]",
            "text/plain": [
              "<Figure size 640x480 with 1 Axes>"
            ]
          },
          "metadata": {},
          "output_type": "display_data"
        }
      ],
      "source": [
        "sns.boxplot(df['Employee Age'])"
      ]
    },
    {
      "cell_type": "code",
      "execution_count": null,
      "id": "50ab5f7b-1823-430e-8bf6-2aeefa522f66",
      "metadata": {
        "id": "50ab5f7b-1823-430e-8bf6-2aeefa522f66",
        "outputId": "2b73d862-748c-47be-f1af-7d4b8c788533"
      },
      "outputs": [
        {
          "data": {
            "text/plain": [
              "<Axes: >"
            ]
          },
          "execution_count": 26,
          "metadata": {},
          "output_type": "execute_result"
        },
        {
          "data": {
            "image/png": "[encoded data removed]",
            "text/plain": [
              "<Figure size 640x480 with 1 Axes>"
            ]
          },
          "metadata": {},
          "output_type": "display_data"
        }
      ],
      "source": [
        "sns.boxplot(df['Employee Salary'])"
      ]
    },
    {
      "cell_type": "markdown",
      "id": "8f8817ed-d4c7-4867-8835-2014f1849e9e",
      "metadata": {
        "id": "8f8817ed-d4c7-4867-8835-2014f1849e9e"
      },
      "source": [
        "## Data Analysis\n",
        "\n",
        "Filter the data with age >40 and salary<5000\n",
        "\n",
        "Plot the chart with age and salary\n",
        "\n",
        "\n",
        "Count the number of people from each place and represent it visually"
      ]
    },
    {
      "cell_type": "code",
      "execution_count": null,
      "id": "cd692a8d-12e8-4bf0-92e3-3f14abd155ff",
      "metadata": {
        "id": "cd692a8d-12e8-4bf0-92e3-3f14abd155ff"
      },
      "outputs": [],
      "source": [
        "new_df =df[(df['Employee Age']>40) & (df['Employee Salary']<5000)]       # Filtering the data with Employee Age above 40 and salary"
      ]
    },
    {
      "cell_type": "code",
      "execution_count": null,
      "id": "eedf3c83-9739-48d6-bcbb-626ffb278bfc",
      "metadata": {
        "id": "eedf3c83-9739-48d6-bcbb-626ffb278bfc",
        "outputId": "99001761-4239-45d1-a6e8-12558a84bbd5"
      },
      "outputs": [
        {
          "data": {
            "text/html": [
              "<div>\n",
              "<style scoped>\n",
              "    .dataframe tbody tr th:only-of-type {\n",
              "        vertical-align: middle;\n",
              "    }\n",
              "\n",
              "    .dataframe tbody tr th {\n",
              "        vertical-align: top;\n",
              "    }\n",
              "\n",
              "    .dataframe thead th {\n",
              "        text-align: right;\n",
              "    }\n",
              "</style>\n",
              "<table border=\"1\" class=\"dataframe\">\n",
              "  <thead>\n",
              "    <tr style=\"text-align: right;\">\n",
              "      <th></th>\n",
              "      <th>Company</th>\n",
              "      <th>Employee Age</th>\n",
              "      <th>Employee Salary</th>\n",
              "      <th>Place</th>\n",
              "      <th>Country</th>\n",
              "      <th>Gender</th>\n",
              "    </tr>\n",
              "  </thead>\n",
              "  <tbody>\n",
              "    <tr>\n",
              "      <th>21</th>\n",
              "      <td>Infosys</td>\n",
              "      <td>50.0</td>\n",
              "      <td>3184.0</td>\n",
              "      <td>Delhi</td>\n",
              "      <td>India</td>\n",
              "      <td>0</td>\n",
              "    </tr>\n",
              "    <tr>\n",
              "      <th>32</th>\n",
              "      <td>Infosys</td>\n",
              "      <td>45.0</td>\n",
              "      <td>4034.0</td>\n",
              "      <td>Calcutta</td>\n",
              "      <td>India</td>\n",
              "      <td>0</td>\n",
              "    </tr>\n",
              "    <tr>\n",
              "      <th>39</th>\n",
              "      <td>Infosys</td>\n",
              "      <td>41.0</td>\n",
              "      <td>3000.0</td>\n",
              "      <td>Mumbai</td>\n",
              "      <td>India</td>\n",
              "      <td>0</td>\n",
              "    </tr>\n",
              "    <tr>\n",
              "      <th>50</th>\n",
              "      <td>Infosys</td>\n",
              "      <td>41.0</td>\n",
              "      <td>3000.0</td>\n",
              "      <td>Chennai</td>\n",
              "      <td>India</td>\n",
              "      <td>0</td>\n",
              "    </tr>\n",
              "    <tr>\n",
              "      <th>57</th>\n",
              "      <td>Infosys</td>\n",
              "      <td>51.0</td>\n",
              "      <td>3184.0</td>\n",
              "      <td>Hyderabad</td>\n",
              "      <td>India</td>\n",
              "      <td>0</td>\n",
              "    </tr>\n",
              "    <tr>\n",
              "      <th>68</th>\n",
              "      <td>Infosys</td>\n",
              "      <td>43.0</td>\n",
              "      <td>4034.0</td>\n",
              "      <td>Mumbai</td>\n",
              "      <td>India</td>\n",
              "      <td>0</td>\n",
              "    </tr>\n",
              "    <tr>\n",
              "      <th>75</th>\n",
              "      <td>Infosys</td>\n",
              "      <td>44.0</td>\n",
              "      <td>3000.0</td>\n",
              "      <td>Cochin</td>\n",
              "      <td>India</td>\n",
              "      <td>0</td>\n",
              "    </tr>\n",
              "    <tr>\n",
              "      <th>85</th>\n",
              "      <td>Infosys</td>\n",
              "      <td>41.0</td>\n",
              "      <td>3000.0</td>\n",
              "      <td>Delhi</td>\n",
              "      <td>India</td>\n",
              "      <td>0</td>\n",
              "    </tr>\n",
              "    <tr>\n",
              "      <th>92</th>\n",
              "      <td>Infosys</td>\n",
              "      <td>54.0</td>\n",
              "      <td>3184.0</td>\n",
              "      <td>Mumbai</td>\n",
              "      <td>India</td>\n",
              "      <td>0</td>\n",
              "    </tr>\n",
              "    <tr>\n",
              "      <th>103</th>\n",
              "      <td>Infosys</td>\n",
              "      <td>44.0</td>\n",
              "      <td>4034.0</td>\n",
              "      <td>Delhi</td>\n",
              "      <td>India</td>\n",
              "      <td>0</td>\n",
              "    </tr>\n",
              "    <tr>\n",
              "      <th>121</th>\n",
              "      <td>Infosys</td>\n",
              "      <td>44.0</td>\n",
              "      <td>3234.0</td>\n",
              "      <td>Mumbai</td>\n",
              "      <td>India</td>\n",
              "      <td>0</td>\n",
              "    </tr>\n",
              "    <tr>\n",
              "      <th>128</th>\n",
              "      <td>Infosys</td>\n",
              "      <td>50.0</td>\n",
              "      <td>3184.0</td>\n",
              "      <td>Calcutta</td>\n",
              "      <td>India</td>\n",
              "      <td>0</td>\n",
              "    </tr>\n",
              "    <tr>\n",
              "      <th>135</th>\n",
              "      <td>CTS</td>\n",
              "      <td>44.0</td>\n",
              "      <td>3033.0</td>\n",
              "      <td>Cochin</td>\n",
              "      <td>India</td>\n",
              "      <td>0</td>\n",
              "    </tr>\n",
              "    <tr>\n",
              "      <th>137</th>\n",
              "      <td>Infosys</td>\n",
              "      <td>44.0</td>\n",
              "      <td>4034.0</td>\n",
              "      <td>Hyderabad</td>\n",
              "      <td>India</td>\n",
              "      <td>0</td>\n",
              "    </tr>\n",
              "    <tr>\n",
              "      <th>141</th>\n",
              "      <td>Infosys</td>\n",
              "      <td>44.0</td>\n",
              "      <td>4034.0</td>\n",
              "      <td>Delhi</td>\n",
              "      <td>India</td>\n",
              "      <td>1</td>\n",
              "    </tr>\n",
              "  </tbody>\n",
              "</table>\n",
              "</div>"
            ],
            "text/plain": [
              "     Company  Employee Age  Employee Salary      Place Country  Gender\n",
              "21   Infosys          50.0           3184.0      Delhi   India       0\n",
              "32   Infosys          45.0           4034.0   Calcutta   India       0\n",
              "39   Infosys          41.0           3000.0     Mumbai   India       0\n",
              "50   Infosys          41.0           3000.0    Chennai   India       0\n",
              "57   Infosys          51.0           3184.0  Hyderabad   India       0\n",
              "68   Infosys          43.0           4034.0     Mumbai   India       0\n",
              "75   Infosys          44.0           3000.0     Cochin   India       0\n",
              "85   Infosys          41.0           3000.0      Delhi   India       0\n",
              "92   Infosys          54.0           3184.0     Mumbai   India       0\n",
              "103  Infosys          44.0           4034.0      Delhi   India       0\n",
              "121  Infosys          44.0           3234.0     Mumbai   India       0\n",
              "128  Infosys          50.0           3184.0   Calcutta   India       0\n",
              "135      CTS          44.0           3033.0     Cochin   India       0\n",
              "137  Infosys          44.0           4034.0  Hyderabad   India       0\n",
              "141  Infosys          44.0           4034.0      Delhi   India       1"
            ]
          },
          "execution_count": 28,
          "metadata": {},
          "output_type": "execute_result"
        }
      ],
      "source": [
        "new_df"
      ]
    },
    {
      "cell_type": "code",
      "execution_count": null,
      "id": "775a16fd-7e94-407f-8ddc-cd405afa3ce5",
      "metadata": {
        "id": "775a16fd-7e94-407f-8ddc-cd405afa3ce5",
        "outputId": "7384c4c3-ae2b-42bf-9960-924d7f44b15f"
      },
      "outputs": [
        {
          "data": {
            "text/plain": [
              "Text(0, 0.5, 'Salary')"
            ]
          },
          "execution_count": 29,
          "metadata": {},
          "output_type": "execute_result"
        },
        {
          "data": {
            "image/png": "[encoded data removed]",
            "text/plain": [
              "<Figure size 1000x600 with 1 Axes>"
            ]
          },
          "metadata": {},
          "output_type": "display_data"
        }
      ],
      "source": [
        "plt.figure(figsize=(10, 6))  # Set the figure size for better visibility\n",
        "sns.scatterplot(data=df, x='Employee Age', y='Employee Salary', hue='Employee Salary', palette='viridis', s=100, alpha=0.7)\n",
        "\n",
        "# Add title and labels\n",
        "plt.title('Scatter Plot of Employee Age vs Salary', fontsize=16)\n",
        "plt.xlabel('Age', fontsize=14)\n",
        "plt.ylabel('Salary', fontsize=14)"
      ]
    },
    {
      "cell_type": "code",
      "execution_count": null,
      "id": "180dea21-f456-4887-9161-3eee8ffc70cc",
      "metadata": {
        "id": "180dea21-f456-4887-9161-3eee8ffc70cc",
        "outputId": "9c553312-03a6-4952-d383-93468121c37b"
      },
      "outputs": [
        {
          "data": {
            "text/plain": [
              "Text(0, 0.5, 'Salary')"
            ]
          },
          "execution_count": 30,
          "metadata": {},
          "output_type": "execute_result"
        },
        {
          "data": {
            "image/png": "[encoded data removed]",
            "text/plain": [
              "<Figure size 1000x600 with 1 Axes>"
            ]
          },
          "metadata": {},
          "output_type": "display_data"
        }
      ],
      "source": [
        "#Plottting scatter plot of filtered data\n",
        "plt.figure(figsize=(10, 6))  # Set the figure size for better visibility\n",
        "sns.scatterplot(data=new_df, x='Employee Age', y='Employee Salary', hue='Employee Salary', palette='cividis', s=100, alpha=0.7)\n",
        "\n",
        "# Add title and labels\n",
        "plt.title('Scatter Plot of Employee Age vs Salary', fontsize=16)\n",
        "plt.xlabel('Age', fontsize=14)\n",
        "plt.ylabel('Salary', fontsize=14)"
      ]
    },
    {
      "cell_type": "code",
      "execution_count": null,
      "id": "91df8db9-f1b3-4d0d-9c8c-cf994bf2c710",
      "metadata": {
        "id": "91df8db9-f1b3-4d0d-9c8c-cf994bf2c710"
      },
      "outputs": [],
      "source": [
        "place_counts = df.groupby('Place').size().sort_values(ascending=False)"
      ]
    },
    {
      "cell_type": "code",
      "execution_count": null,
      "id": "6bb845f8-1ffd-4f91-8566-a6df80de7eb9",
      "metadata": {
        "id": "6bb845f8-1ffd-4f91-8566-a6df80de7eb9",
        "outputId": "76aa93c6-2836-4720-eb3b-9f2f24156d6c"
      },
      "outputs": [
        {
          "data": {
            "text/plain": [
              "Place\n",
              "Mumbai        33\n",
              "Calcutta      30\n",
              "Chennai       13\n",
              "Cochin        13\n",
              "Delhi         13\n",
              "Hyderabad      7\n",
              "Noida          7\n",
              "Podicherry     3\n",
              "Pune           2\n",
              "Bhopal         1\n",
              "Nagpur         1\n",
              "dtype: int64"
            ]
          },
          "execution_count": 32,
          "metadata": {},
          "output_type": "execute_result"
        }
      ],
      "source": [
        "place_counts"
      ]
    },
    {
      "cell_type": "code",
      "execution_count": null,
      "id": "621ce75b-ce90-4d41-b75f-a690a214d5da",
      "metadata": {
        "id": "621ce75b-ce90-4d41-b75f-a690a214d5da"
      },
      "outputs": [],
      "source": [
        "place_count_of_newdf= new_df.groupby('Place').size().sort_values(ascending=False)"
      ]
    },
    {
      "cell_type": "code",
      "execution_count": null,
      "id": "320e736d-70bb-4258-b2ce-c15b54d3ca3b",
      "metadata": {
        "id": "320e736d-70bb-4258-b2ce-c15b54d3ca3b",
        "outputId": "49c56c62-098f-47ee-9aa1-255daf0a9c4b"
      },
      "outputs": [
        {
          "data": {
            "text/plain": [
              "Place\n",
              "Delhi        4\n",
              "Mumbai       4\n",
              "Calcutta     2\n",
              "Cochin       2\n",
              "Hyderabad    2\n",
              "Chennai      1\n",
              "dtype: int64"
            ]
          },
          "execution_count": 34,
          "metadata": {},
          "output_type": "execute_result"
        }
      ],
      "source": [
        "place_count_of_newdf"
      ]
    },
    {
      "cell_type": "code",
      "execution_count": null,
      "id": "d10a3e8c-9f3d-4c7b-b193-9bde48a1f6e2",
      "metadata": {
        "id": "d10a3e8c-9f3d-4c7b-b193-9bde48a1f6e2"
      },
      "outputs": [],
      "source": []
    },
    {
      "cell_type": "code",
      "execution_count": null,
      "id": "bd99c8c8-00d0-4311-8525-9d323d45729e",
      "metadata": {
        "id": "bd99c8c8-00d0-4311-8525-9d323d45729e"
      },
      "outputs": [],
      "source": []
    },
    {
      "cell_type": "code",
      "execution_count": null,
      "id": "f5e9757c-b850-483c-9c71-1a18e6dc23b4",
      "metadata": {
        "id": "f5e9757c-b850-483c-9c71-1a18e6dc23b4",
        "outputId": "0ae9eaed-5d29-43ae-d9ce-57e7e98c0d60"
      },
      "outputs": [
        {
          "data": {
            "text/plain": [
              "<Axes: xlabel='Place'>"
            ]
          },
          "execution_count": 35,
          "metadata": {},
          "output_type": "execute_result"
        },
        {
          "data": {
            "image/png": "[encoded data removed]",
            "text/plain": [
              "<Figure size 1000x600 with 1 Axes>"
            ]
          },
          "metadata": {},
          "output_type": "display_data"
        }
      ],
      "source": [
        "plt.figure(figsize=(10, 6))\n",
        "plt.xticks(rotation=45)\n",
        "sns.barplot(x=place_counts.index,y=place_counts.values)"
      ]
    },
    {
      "cell_type": "code",
      "execution_count": null,
      "id": "ade1efc5-8af8-4520-80c7-4ac15e87940f",
      "metadata": {
        "id": "ade1efc5-8af8-4520-80c7-4ac15e87940f",
        "outputId": "fd09c30d-c96d-4f8a-8973-ebb77736f8aa"
      },
      "outputs": [
        {
          "data": {
            "text/plain": [
              "<Axes: xlabel='Place'>"
            ]
          },
          "execution_count": 74,
          "metadata": {},
          "output_type": "execute_result"
        },
        {
          "data": {
            "image/png": "[encoded data removed]",
            "text/plain": [
              "<Figure size 1000x600 with 1 Axes>"
            ]
          },
          "metadata": {},
          "output_type": "display_data"
        }
      ],
      "source": [
        "plt.figure(figsize=(10, 6))\n",
        "plt.xticks(rotation=45)\n",
        "sns.barplot(x=place_count_of_newdf.index,y=place_count_of_newdf.values)"
      ]
    },
    {
      "cell_type": "markdown",
      "id": "1a89caaf-44f3-4e00-a469-ef7bb5fdf04d",
      "metadata": {
        "id": "1a89caaf-44f3-4e00-a469-ef7bb5fdf04d"
      },
      "source": [
        "## Encoding\n",
        "\n",
        "Convert categorical variables into numerical representations using techniques such as one-hot encoding, label encoding, making them suitable for analysis by machine learning algorithms.\n"
      ]
    },
    {
      "cell_type": "code",
      "execution_count": null,
      "id": "ee16d7c1-95d7-43d5-8bd4-6f04da3ae85b",
      "metadata": {
        "id": "ee16d7c1-95d7-43d5-8bd4-6f04da3ae85b"
      },
      "outputs": [],
      "source": [
        "from sklearn.preprocessing import LabelEncoder, OneHotEncoder              #Imorting Necessary Libraries"
      ]
    },
    {
      "cell_type": "markdown",
      "id": "89ff46b8-fee0-49a5-a4fd-d9f63e28730c",
      "metadata": {
        "id": "89ff46b8-fee0-49a5-a4fd-d9f63e28730c"
      },
      "source": [
        "Encoding categorical columns uing the technique One Hot Encoding"
      ]
    },
    {
      "cell_type": "code",
      "execution_count": null,
      "id": "2976baa3-4420-4c1d-b091-4ce97d647bfd",
      "metadata": {
        "id": "2976baa3-4420-4c1d-b091-4ce97d647bfd"
      },
      "outputs": [],
      "source": [
        "one_hot_encoder=OneHotEncoder(sparse_output=False)                          #Initializing encoder funcion"
      ]
    },
    {
      "cell_type": "code",
      "execution_count": null,
      "id": "cefd5d02-938d-430d-9c3f-d185b5a1ad5c",
      "metadata": {
        "id": "cefd5d02-938d-430d-9c3f-d185b5a1ad5c"
      },
      "outputs": [],
      "source": [
        "cat_cols =  df.select_dtypes(include=['object']).columns                     #Sekecting categorical columns to encode"
      ]
    },
    {
      "cell_type": "code",
      "execution_count": null,
      "id": "da72829e-dced-4df4-99fc-e55a74f6329a",
      "metadata": {
        "id": "da72829e-dced-4df4-99fc-e55a74f6329a"
      },
      "outputs": [],
      "source": [
        "oh_encoded_data = one_hot_encoder.fit_transform(df[cat_cols])                #Encoding the categorical columns"
      ]
    },
    {
      "cell_type": "code",
      "execution_count": null,
      "id": "2699f083-45c2-405e-85ed-0fcf3796426f",
      "metadata": {
        "id": "2699f083-45c2-405e-85ed-0fcf3796426f"
      },
      "outputs": [],
      "source": [
        "oh_encoded_df = pd.DataFrame(oh_encoded_data,columns=one_hot_encoder.get_feature_names_out(cat_cols))     #Creatinf new dataframe"
      ]
    },
    {
      "cell_type": "code",
      "execution_count": null,
      "id": "053a69cc-7232-4cd6-94b1-44dbb26e7f5a",
      "metadata": {
        "id": "053a69cc-7232-4cd6-94b1-44dbb26e7f5a"
      },
      "outputs": [],
      "source": [
        "oh_encoded_df = pd.concat([df[['Employee Age','Employee Salary','Country','Gender']],oh_encoded_df],axis =1)"
      ]
    },
    {
      "cell_type": "code",
      "execution_count": null,
      "id": "77ed5c4c-33b0-4a46-9bc7-b5a9eae9a02b",
      "metadata": {
        "id": "77ed5c4c-33b0-4a46-9bc7-b5a9eae9a02b",
        "outputId": "054a6ef9-915d-46de-b46c-3a1b72df4227"
      },
      "outputs": [
        {
          "data": {
            "text/html": [
              "<div>\n",
              "<style scoped>\n",
              "    .dataframe tbody tr th:only-of-type {\n",
              "        vertical-align: middle;\n",
              "    }\n",
              "\n",
              "    .dataframe tbody tr th {\n",
              "        vertical-align: top;\n",
              "    }\n",
              "\n",
              "    .dataframe thead th {\n",
              "        text-align: right;\n",
              "    }\n",
              "</style>\n",
              "<table border=\"1\" class=\"dataframe\">\n",
              "  <thead>\n",
              "    <tr style=\"text-align: right;\">\n",
              "      <th></th>\n",
              "      <th>Employee Age</th>\n",
              "      <th>Employee Salary</th>\n",
              "      <th>Country</th>\n",
              "      <th>Gender</th>\n",
              "      <th>Company_CTS</th>\n",
              "      <th>Company_Infosys</th>\n",
              "      <th>Company_TCS</th>\n",
              "      <th>Place_Bhopal</th>\n",
              "      <th>Place_Calcutta</th>\n",
              "      <th>Place_Chennai</th>\n",
              "      <th>Place_Cochin</th>\n",
              "      <th>Place_Delhi</th>\n",
              "      <th>Place_Hyderabad</th>\n",
              "      <th>Place_Mumbai</th>\n",
              "      <th>Place_Nagpur</th>\n",
              "      <th>Place_Noida</th>\n",
              "      <th>Place_Podicherry</th>\n",
              "      <th>Place_Pune</th>\n",
              "      <th>Country_India</th>\n",
              "    </tr>\n",
              "  </thead>\n",
              "  <tbody>\n",
              "    <tr>\n",
              "      <th>0</th>\n",
              "      <td>20.0</td>\n",
              "      <td>5000.0</td>\n",
              "      <td>India</td>\n",
              "      <td>0.0</td>\n",
              "      <td>0.0</td>\n",
              "      <td>0.0</td>\n",
              "      <td>1.0</td>\n",
              "      <td>0.0</td>\n",
              "      <td>0.0</td>\n",
              "      <td>1.0</td>\n",
              "      <td>0.0</td>\n",
              "      <td>0.0</td>\n",
              "      <td>0.0</td>\n",
              "      <td>0.0</td>\n",
              "      <td>0.0</td>\n",
              "      <td>0.0</td>\n",
              "      <td>0.0</td>\n",
              "      <td>0.0</td>\n",
              "      <td>1.0</td>\n",
              "    </tr>\n",
              "    <tr>\n",
              "      <th>1</th>\n",
              "      <td>30.0</td>\n",
              "      <td>5000.0</td>\n",
              "      <td>India</td>\n",
              "      <td>0.0</td>\n",
              "      <td>0.0</td>\n",
              "      <td>1.0</td>\n",
              "      <td>0.0</td>\n",
              "      <td>0.0</td>\n",
              "      <td>0.0</td>\n",
              "      <td>0.0</td>\n",
              "      <td>0.0</td>\n",
              "      <td>0.0</td>\n",
              "      <td>0.0</td>\n",
              "      <td>1.0</td>\n",
              "      <td>0.0</td>\n",
              "      <td>0.0</td>\n",
              "      <td>0.0</td>\n",
              "      <td>0.0</td>\n",
              "      <td>1.0</td>\n",
              "    </tr>\n",
              "    <tr>\n",
              "      <th>2</th>\n",
              "      <td>35.0</td>\n",
              "      <td>2300.0</td>\n",
              "      <td>India</td>\n",
              "      <td>0.0</td>\n",
              "      <td>0.0</td>\n",
              "      <td>0.0</td>\n",
              "      <td>1.0</td>\n",
              "      <td>0.0</td>\n",
              "      <td>1.0</td>\n",
              "      <td>0.0</td>\n",
              "      <td>0.0</td>\n",
              "      <td>0.0</td>\n",
              "      <td>0.0</td>\n",
              "      <td>0.0</td>\n",
              "      <td>0.0</td>\n",
              "      <td>0.0</td>\n",
              "      <td>0.0</td>\n",
              "      <td>0.0</td>\n",
              "      <td>1.0</td>\n",
              "    </tr>\n",
              "    <tr>\n",
              "      <th>3</th>\n",
              "      <td>40.0</td>\n",
              "      <td>3000.0</td>\n",
              "      <td>India</td>\n",
              "      <td>0.0</td>\n",
              "      <td>0.0</td>\n",
              "      <td>1.0</td>\n",
              "      <td>0.0</td>\n",
              "      <td>0.0</td>\n",
              "      <td>0.0</td>\n",
              "      <td>0.0</td>\n",
              "      <td>0.0</td>\n",
              "      <td>1.0</td>\n",
              "      <td>0.0</td>\n",
              "      <td>0.0</td>\n",
              "      <td>0.0</td>\n",
              "      <td>0.0</td>\n",
              "      <td>0.0</td>\n",
              "      <td>0.0</td>\n",
              "      <td>1.0</td>\n",
              "    </tr>\n",
              "    <tr>\n",
              "      <th>4</th>\n",
              "      <td>23.0</td>\n",
              "      <td>4000.0</td>\n",
              "      <td>India</td>\n",
              "      <td>0.0</td>\n",
              "      <td>0.0</td>\n",
              "      <td>0.0</td>\n",
              "      <td>1.0</td>\n",
              "      <td>0.0</td>\n",
              "      <td>0.0</td>\n",
              "      <td>0.0</td>\n",
              "      <td>0.0</td>\n",
              "      <td>0.0</td>\n",
              "      <td>0.0</td>\n",
              "      <td>1.0</td>\n",
              "      <td>0.0</td>\n",
              "      <td>0.0</td>\n",
              "      <td>0.0</td>\n",
              "      <td>0.0</td>\n",
              "      <td>1.0</td>\n",
              "    </tr>\n",
              "  </tbody>\n",
              "</table>\n",
              "</div>"
            ],
            "text/plain": [
              "   Employee Age  Employee Salary Country  Gender  Company_CTS  \\\n",
              "0          20.0           5000.0   India     0.0          0.0   \n",
              "1          30.0           5000.0   India     0.0          0.0   \n",
              "2          35.0           2300.0   India     0.0          0.0   \n",
              "3          40.0           3000.0   India     0.0          0.0   \n",
              "4          23.0           4000.0   India     0.0          0.0   \n",
              "\n",
              "   Company_Infosys  Company_TCS  Place_Bhopal  Place_Calcutta  Place_Chennai  \\\n",
              "0              0.0          1.0           0.0             0.0            1.0   \n",
              "1              1.0          0.0           0.0             0.0            0.0   \n",
              "2              0.0          1.0           0.0             1.0            0.0   \n",
              "3              1.0          0.0           0.0             0.0            0.0   \n",
              "4              0.0          1.0           0.0             0.0            0.0   \n",
              "\n",
              "   Place_Cochin  Place_Delhi  Place_Hyderabad  Place_Mumbai  Place_Nagpur  \\\n",
              "0           0.0          0.0              0.0           0.0           0.0   \n",
              "1           0.0          0.0              0.0           1.0           0.0   \n",
              "2           0.0          0.0              0.0           0.0           0.0   \n",
              "3           0.0          1.0              0.0           0.0           0.0   \n",
              "4           0.0          0.0              0.0           1.0           0.0   \n",
              "\n",
              "   Place_Noida  Place_Podicherry  Place_Pune  Country_India  \n",
              "0          0.0               0.0         0.0            1.0  \n",
              "1          0.0               0.0         0.0            1.0  \n",
              "2          0.0               0.0         0.0            1.0  \n",
              "3          0.0               0.0         0.0            1.0  \n",
              "4          0.0               0.0         0.0            1.0  "
            ]
          },
          "execution_count": 72,
          "metadata": {},
          "output_type": "execute_result"
        }
      ],
      "source": [
        "oh_encoded_df.head()"
      ]
    },
    {
      "cell_type": "markdown",
      "id": "d569ae92-b8e9-42b2-b819-1521c15bd478",
      "metadata": {
        "id": "d569ae92-b8e9-42b2-b819-1521c15bd478"
      },
      "source": [
        "## Label Encoding"
      ]
    },
    {
      "cell_type": "code",
      "execution_count": null,
      "id": "b527871f-d9d0-47ff-b9cf-90229dc701ac",
      "metadata": {
        "id": "b527871f-d9d0-47ff-b9cf-90229dc701ac"
      },
      "outputs": [],
      "source": [
        "lb_encoder = LabelEncoder()                                               #Initializing encoder funcion"
      ]
    },
    {
      "cell_type": "code",
      "execution_count": null,
      "id": "c662c135-b9a5-4a9e-a22c-c964a20cb2a1",
      "metadata": {
        "id": "c662c135-b9a5-4a9e-a22c-c964a20cb2a1"
      },
      "outputs": [],
      "source": [
        "lb_encoded_df = df.copy()                                                 #Creating a copy of the main df"
      ]
    },
    {
      "cell_type": "code",
      "execution_count": null,
      "id": "9349cefb-3974-4d03-b01b-125ba87a717d",
      "metadata": {
        "id": "9349cefb-3974-4d03-b01b-125ba87a717d",
        "outputId": "dcd6e9ae-d531-4e7e-f7c2-aa8c0fff3b92"
      },
      "outputs": [
        {
          "data": {
            "text/plain": [
              "Index(['Company', 'Place', 'Country'], dtype='object')"
            ]
          },
          "execution_count": 89,
          "metadata": {},
          "output_type": "execute_result"
        }
      ],
      "source": [
        "cat_cols                                                                  # Selecting categorical columns for encoding"
      ]
    },
    {
      "cell_type": "code",
      "execution_count": null,
      "id": "bece9493-6ace-4f62-8fa1-5d486c48f978",
      "metadata": {
        "id": "bece9493-6ace-4f62-8fa1-5d486c48f978"
      },
      "outputs": [],
      "source": [
        "for col in cat_cols:                                                              #Using for loop encoding all categorical columns in the new dataframe\n",
        "    lb_encoded_df[col +' encoded']=lb_encoder.fit_transform(lb_encoded_df[col])\n",
        "    lb_encoded_df = lb_encoded_df.drop(col,axis=1)"
      ]
    },
    {
      "cell_type": "code",
      "execution_count": null,
      "id": "61ae0c25-9756-478e-93c1-9916b1b86716",
      "metadata": {
        "id": "61ae0c25-9756-478e-93c1-9916b1b86716",
        "outputId": "aa7cffa3-2501-4b0a-a1cc-a633da0fb50c"
      },
      "outputs": [
        {
          "data": {
            "text/html": [
              "<div>\n",
              "<style scoped>\n",
              "    .dataframe tbody tr th:only-of-type {\n",
              "        vertical-align: middle;\n",
              "    }\n",
              "\n",
              "    .dataframe tbody tr th {\n",
              "        vertical-align: top;\n",
              "    }\n",
              "\n",
              "    .dataframe thead th {\n",
              "        text-align: right;\n",
              "    }\n",
              "</style>\n",
              "<table border=\"1\" class=\"dataframe\">\n",
              "  <thead>\n",
              "    <tr style=\"text-align: right;\">\n",
              "      <th></th>\n",
              "      <th>Employee Age</th>\n",
              "      <th>Employee Salary</th>\n",
              "      <th>Gender</th>\n",
              "      <th>Company encoded</th>\n",
              "      <th>Place encoded</th>\n",
              "      <th>Country encoded</th>\n",
              "    </tr>\n",
              "  </thead>\n",
              "  <tbody>\n",
              "    <tr>\n",
              "      <th>0</th>\n",
              "      <td>20.0</td>\n",
              "      <td>5000.0</td>\n",
              "      <td>0</td>\n",
              "      <td>2</td>\n",
              "      <td>2</td>\n",
              "      <td>0</td>\n",
              "    </tr>\n",
              "    <tr>\n",
              "      <th>1</th>\n",
              "      <td>30.0</td>\n",
              "      <td>5000.0</td>\n",
              "      <td>0</td>\n",
              "      <td>1</td>\n",
              "      <td>6</td>\n",
              "      <td>0</td>\n",
              "    </tr>\n",
              "    <tr>\n",
              "      <th>2</th>\n",
              "      <td>35.0</td>\n",
              "      <td>2300.0</td>\n",
              "      <td>0</td>\n",
              "      <td>2</td>\n",
              "      <td>1</td>\n",
              "      <td>0</td>\n",
              "    </tr>\n",
              "    <tr>\n",
              "      <th>3</th>\n",
              "      <td>40.0</td>\n",
              "      <td>3000.0</td>\n",
              "      <td>0</td>\n",
              "      <td>1</td>\n",
              "      <td>4</td>\n",
              "      <td>0</td>\n",
              "    </tr>\n",
              "    <tr>\n",
              "      <th>4</th>\n",
              "      <td>23.0</td>\n",
              "      <td>4000.0</td>\n",
              "      <td>0</td>\n",
              "      <td>2</td>\n",
              "      <td>6</td>\n",
              "      <td>0</td>\n",
              "    </tr>\n",
              "  </tbody>\n",
              "</table>\n",
              "</div>"
            ],
            "text/plain": [
              "   Employee Age  Employee Salary  Gender  Company encoded  Place encoded  \\\n",
              "0          20.0           5000.0       0                2              2   \n",
              "1          30.0           5000.0       0                1              6   \n",
              "2          35.0           2300.0       0                2              1   \n",
              "3          40.0           3000.0       0                1              4   \n",
              "4          23.0           4000.0       0                2              6   \n",
              "\n",
              "   Country encoded  \n",
              "0                0  \n",
              "1                0  \n",
              "2                0  \n",
              "3                0  \n",
              "4                0  "
            ]
          },
          "execution_count": 66,
          "metadata": {},
          "output_type": "execute_result"
        }
      ],
      "source": [
        "lb_encoded_df.head()"
      ]
    },
    {
      "cell_type": "markdown",
      "id": "801b18f8-c04b-4607-bfa5-d68fac6f386d",
      "metadata": {
        "id": "801b18f8-c04b-4607-bfa5-d68fac6f386d"
      },
      "source": [
        "## Scaling of the features uing standardscaler and minmaxscaler"
      ]
    },
    {
      "cell_type": "code",
      "execution_count": null,
      "id": "b2f799fc-b464-4a21-9218-af0f71c7fcd8",
      "metadata": {
        "id": "b2f799fc-b464-4a21-9218-af0f71c7fcd8"
      },
      "outputs": [],
      "source": [
        "from sklearn.preprocessing import StandardScaler, MinMaxScaler                    #Importing the necessary libraries"
      ]
    },
    {
      "cell_type": "markdown",
      "id": "1cf905cc-38fd-45a4-be4e-90cbd44fdb55",
      "metadata": {
        "id": "1cf905cc-38fd-45a4-be4e-90cbd44fdb55"
      },
      "source": [
        "## Standard scaling of the label encoded df"
      ]
    },
    {
      "cell_type": "code",
      "execution_count": null,
      "id": "f18fc35f-568e-40e4-9c9f-e3276f110cfa",
      "metadata": {
        "id": "f18fc35f-568e-40e4-9c9f-e3276f110cfa"
      },
      "outputs": [],
      "source": [
        "std_scaler=StandardScaler()                                                       #Initializing the scaling function"
      ]
    },
    {
      "cell_type": "code",
      "execution_count": null,
      "id": "b0227d6d-cf59-44e3-8838-dc40c498d24c",
      "metadata": {
        "id": "b0227d6d-cf59-44e3-8838-dc40c498d24c",
        "outputId": "77666741-b6d3-49c0-90d8-8734aa04ca08"
      },
      "outputs": [
        {
          "name": "stdout",
          "output_type": "stream",
          "text": [
            "<class 'pandas.core.frame.DataFrame'>\n",
            "Index: 123 entries, 0 to 143\n",
            "Data columns (total 6 columns):\n",
            " #   Column           Non-Null Count  Dtype  \n",
            "---  ------           --------------  -----  \n",
            " 0   Employee Age     123 non-null    float64\n",
            " 1   Employee Salary  123 non-null    float64\n",
            " 2   Gender           123 non-null    int64  \n",
            " 3   Company encoded  123 non-null    int32  \n",
            " 4   Place encoded    123 non-null    int32  \n",
            " 5   Country encoded  123 non-null    int32  \n",
            "dtypes: float64(2), int32(3), int64(1)\n",
            "memory usage: 9.4 KB\n"
          ]
        }
      ],
      "source": []
    },
    {
      "cell_type": "code",
      "execution_count": null,
      "id": "0a0023e2-bf26-4f3f-bc88-eeab25c9f44d",
      "metadata": {
        "id": "0a0023e2-bf26-4f3f-bc88-eeab25c9f44d"
      },
      "outputs": [],
      "source": [
        "cols_to_scal = lb_encoded_df.select_dtypes(include=['float64']).columns                     #Selecting columns to scale"
      ]
    },
    {
      "cell_type": "code",
      "execution_count": null,
      "id": "ce4cd327-48e3-4f5e-b283-b631b1304073",
      "metadata": {
        "id": "ce4cd327-48e3-4f5e-b283-b631b1304073"
      },
      "outputs": [],
      "source": [
        "lb_encoded_df[['Employee Age','Employee Salary']]=std_scaler.fit_transform(lb_encoded_df[['Employee Age','Employee Salary']])     #tranforming the data"
      ]
    },
    {
      "cell_type": "code",
      "execution_count": null,
      "id": "28dcc0c2-abdb-4e62-882e-1d8cc5d27ec4",
      "metadata": {
        "id": "28dcc0c2-abdb-4e62-882e-1d8cc5d27ec4",
        "outputId": "15b4b691-9757-4697-b90c-ee545a901e19"
      },
      "outputs": [
        {
          "data": {
            "text/html": [
              "<div>\n",
              "<style scoped>\n",
              "    .dataframe tbody tr th:only-of-type {\n",
              "        vertical-align: middle;\n",
              "    }\n",
              "\n",
              "    .dataframe tbody tr th {\n",
              "        vertical-align: top;\n",
              "    }\n",
              "\n",
              "    .dataframe thead th {\n",
              "        text-align: right;\n",
              "    }\n",
              "</style>\n",
              "<table border=\"1\" class=\"dataframe\">\n",
              "  <thead>\n",
              "    <tr style=\"text-align: right;\">\n",
              "      <th></th>\n",
              "      <th>Employee Age</th>\n",
              "      <th>Employee Salary</th>\n",
              "      <th>Gender</th>\n",
              "      <th>Company encoded</th>\n",
              "      <th>Place encoded</th>\n",
              "      <th>Country encoded</th>\n",
              "    </tr>\n",
              "  </thead>\n",
              "  <tbody>\n",
              "    <tr>\n",
              "      <th>0</th>\n",
              "      <td>-1.467635</td>\n",
              "      <td>-0.004180</td>\n",
              "      <td>0</td>\n",
              "      <td>2</td>\n",
              "      <td>2</td>\n",
              "      <td>0</td>\n",
              "    </tr>\n",
              "    <tr>\n",
              "      <th>1</th>\n",
              "      <td>-0.287000</td>\n",
              "      <td>-0.004180</td>\n",
              "      <td>0</td>\n",
              "      <td>1</td>\n",
              "      <td>6</td>\n",
              "      <td>0</td>\n",
              "    </tr>\n",
              "    <tr>\n",
              "      <th>2</th>\n",
              "      <td>0.303318</td>\n",
              "      <td>-1.158958</td>\n",
              "      <td>0</td>\n",
              "      <td>2</td>\n",
              "      <td>1</td>\n",
              "      <td>0</td>\n",
              "    </tr>\n",
              "    <tr>\n",
              "      <th>3</th>\n",
              "      <td>0.893635</td>\n",
              "      <td>-0.859571</td>\n",
              "      <td>0</td>\n",
              "      <td>1</td>\n",
              "      <td>4</td>\n",
              "      <td>0</td>\n",
              "    </tr>\n",
              "    <tr>\n",
              "      <th>4</th>\n",
              "      <td>-1.113445</td>\n",
              "      <td>-0.431875</td>\n",
              "      <td>0</td>\n",
              "      <td>2</td>\n",
              "      <td>6</td>\n",
              "      <td>0</td>\n",
              "    </tr>\n",
              "  </tbody>\n",
              "</table>\n",
              "</div>"
            ],
            "text/plain": [
              "   Employee Age  Employee Salary  Gender  Company encoded  Place encoded  \\\n",
              "0     -1.467635        -0.004180       0                2              2   \n",
              "1     -0.287000        -0.004180       0                1              6   \n",
              "2      0.303318        -1.158958       0                2              1   \n",
              "3      0.893635        -0.859571       0                1              4   \n",
              "4     -1.113445        -0.431875       0                2              6   \n",
              "\n",
              "   Country encoded  \n",
              "0                0  \n",
              "1                0  \n",
              "2                0  \n",
              "3                0  \n",
              "4                0  "
            ]
          },
          "execution_count": 94,
          "metadata": {},
          "output_type": "execute_result"
        }
      ],
      "source": [
        "lb_encoded_df.head()"
      ]
    },
    {
      "cell_type": "markdown",
      "id": "b82b97fd-653f-4684-9e1b-16a33d6732be",
      "metadata": {
        "id": "b82b97fd-653f-4684-9e1b-16a33d6732be"
      },
      "source": [
        "## Minmax scaling of one hot encoded data"
      ]
    },
    {
      "cell_type": "code",
      "execution_count": null,
      "id": "eaed32d0-e36a-4a06-992e-dcf2d0b4f453",
      "metadata": {
        "id": "eaed32d0-e36a-4a06-992e-dcf2d0b4f453"
      },
      "outputs": [],
      "source": [
        "m_mscalar= MinMaxScaler()                                                          #Initializing the scaling function"
      ]
    },
    {
      "cell_type": "code",
      "execution_count": null,
      "id": "42e091b5-69af-4c31-9587-0b4e0fb8dea3",
      "metadata": {
        "id": "42e091b5-69af-4c31-9587-0b4e0fb8dea3"
      },
      "outputs": [],
      "source": [
        "oh_encoded_df[['Employee Age','Employee Salary']] = m_mscalar.fit_transform(oh_encoded_df[['Employee Age','Employee Salary']])        #scaling the"
      ]
    },
    {
      "cell_type": "code",
      "execution_count": null,
      "id": "ef483889-ca3f-4946-81d2-866a9bee46fd",
      "metadata": {
        "id": "ef483889-ca3f-4946-81d2-866a9bee46fd",
        "outputId": "41f845d1-b260-475c-8132-36a38b54d460"
      },
      "outputs": [
        {
          "data": {
            "text/html": [
              "<div>\n",
              "<style scoped>\n",
              "    .dataframe tbody tr th:only-of-type {\n",
              "        vertical-align: middle;\n",
              "    }\n",
              "\n",
              "    .dataframe tbody tr th {\n",
              "        vertical-align: top;\n",
              "    }\n",
              "\n",
              "    .dataframe thead th {\n",
              "        text-align: right;\n",
              "    }\n",
              "</style>\n",
              "<table border=\"1\" class=\"dataframe\">\n",
              "  <thead>\n",
              "    <tr style=\"text-align: right;\">\n",
              "      <th></th>\n",
              "      <th>Employee Age</th>\n",
              "      <th>Employee Salary</th>\n",
              "      <th>Country</th>\n",
              "      <th>Gender</th>\n",
              "      <th>Company_CTS</th>\n",
              "      <th>Company_Infosys</th>\n",
              "      <th>Company_TCS</th>\n",
              "      <th>Place_Bhopal</th>\n",
              "      <th>Place_Calcutta</th>\n",
              "      <th>Place_Chennai</th>\n",
              "      <th>Place_Cochin</th>\n",
              "      <th>Place_Delhi</th>\n",
              "      <th>Place_Hyderabad</th>\n",
              "      <th>Place_Mumbai</th>\n",
              "      <th>Place_Nagpur</th>\n",
              "      <th>Place_Noida</th>\n",
              "      <th>Place_Podicherry</th>\n",
              "      <th>Place_Pune</th>\n",
              "      <th>Country_India</th>\n",
              "    </tr>\n",
              "  </thead>\n",
              "  <tbody>\n",
              "    <tr>\n",
              "      <th>0</th>\n",
              "      <td>0.081081</td>\n",
              "      <td>0.445089</td>\n",
              "      <td>India</td>\n",
              "      <td>0.0</td>\n",
              "      <td>0.0</td>\n",
              "      <td>0.0</td>\n",
              "      <td>1.0</td>\n",
              "      <td>0.0</td>\n",
              "      <td>0.0</td>\n",
              "      <td>1.0</td>\n",
              "      <td>0.0</td>\n",
              "      <td>0.0</td>\n",
              "      <td>0.0</td>\n",
              "      <td>0.0</td>\n",
              "      <td>0.0</td>\n",
              "      <td>0.0</td>\n",
              "      <td>0.0</td>\n",
              "      <td>0.0</td>\n",
              "      <td>1.0</td>\n",
              "    </tr>\n",
              "    <tr>\n",
              "      <th>1</th>\n",
              "      <td>0.351351</td>\n",
              "      <td>0.445089</td>\n",
              "      <td>India</td>\n",
              "      <td>0.0</td>\n",
              "      <td>0.0</td>\n",
              "      <td>1.0</td>\n",
              "      <td>0.0</td>\n",
              "      <td>0.0</td>\n",
              "      <td>0.0</td>\n",
              "      <td>0.0</td>\n",
              "      <td>0.0</td>\n",
              "      <td>0.0</td>\n",
              "      <td>0.0</td>\n",
              "      <td>1.0</td>\n",
              "      <td>0.0</td>\n",
              "      <td>0.0</td>\n",
              "      <td>0.0</td>\n",
              "      <td>0.0</td>\n",
              "      <td>1.0</td>\n",
              "    </tr>\n",
              "    <tr>\n",
              "      <th>2</th>\n",
              "      <td>0.486486</td>\n",
              "      <td>0.137817</td>\n",
              "      <td>India</td>\n",
              "      <td>0.0</td>\n",
              "      <td>0.0</td>\n",
              "      <td>0.0</td>\n",
              "      <td>1.0</td>\n",
              "      <td>0.0</td>\n",
              "      <td>1.0</td>\n",
              "      <td>0.0</td>\n",
              "      <td>0.0</td>\n",
              "      <td>0.0</td>\n",
              "      <td>0.0</td>\n",
              "      <td>0.0</td>\n",
              "      <td>0.0</td>\n",
              "      <td>0.0</td>\n",
              "      <td>0.0</td>\n",
              "      <td>0.0</td>\n",
              "      <td>1.0</td>\n",
              "    </tr>\n",
              "    <tr>\n",
              "      <th>3</th>\n",
              "      <td>0.621622</td>\n",
              "      <td>0.217480</td>\n",
              "      <td>India</td>\n",
              "      <td>0.0</td>\n",
              "      <td>0.0</td>\n",
              "      <td>1.0</td>\n",
              "      <td>0.0</td>\n",
              "      <td>0.0</td>\n",
              "      <td>0.0</td>\n",
              "      <td>0.0</td>\n",
              "      <td>0.0</td>\n",
              "      <td>1.0</td>\n",
              "      <td>0.0</td>\n",
              "      <td>0.0</td>\n",
              "      <td>0.0</td>\n",
              "      <td>0.0</td>\n",
              "      <td>0.0</td>\n",
              "      <td>0.0</td>\n",
              "      <td>1.0</td>\n",
              "    </tr>\n",
              "    <tr>\n",
              "      <th>4</th>\n",
              "      <td>0.162162</td>\n",
              "      <td>0.331285</td>\n",
              "      <td>India</td>\n",
              "      <td>0.0</td>\n",
              "      <td>0.0</td>\n",
              "      <td>0.0</td>\n",
              "      <td>1.0</td>\n",
              "      <td>0.0</td>\n",
              "      <td>0.0</td>\n",
              "      <td>0.0</td>\n",
              "      <td>0.0</td>\n",
              "      <td>0.0</td>\n",
              "      <td>0.0</td>\n",
              "      <td>1.0</td>\n",
              "      <td>0.0</td>\n",
              "      <td>0.0</td>\n",
              "      <td>0.0</td>\n",
              "      <td>0.0</td>\n",
              "      <td>1.0</td>\n",
              "    </tr>\n",
              "  </tbody>\n",
              "</table>\n",
              "</div>"
            ],
            "text/plain": [
              "   Employee Age  Employee Salary Country  Gender  Company_CTS  \\\n",
              "0      0.081081         0.445089   India     0.0          0.0   \n",
              "1      0.351351         0.445089   India     0.0          0.0   \n",
              "2      0.486486         0.137817   India     0.0          0.0   \n",
              "3      0.621622         0.217480   India     0.0          0.0   \n",
              "4      0.162162         0.331285   India     0.0          0.0   \n",
              "\n",
              "   Company_Infosys  Company_TCS  Place_Bhopal  Place_Calcutta  Place_Chennai  \\\n",
              "0              0.0          1.0           0.0             0.0            1.0   \n",
              "1              1.0          0.0           0.0             0.0            0.0   \n",
              "2              0.0          1.0           0.0             1.0            0.0   \n",
              "3              1.0          0.0           0.0             0.0            0.0   \n",
              "4              0.0          1.0           0.0             0.0            0.0   \n",
              "\n",
              "   Place_Cochin  Place_Delhi  Place_Hyderabad  Place_Mumbai  Place_Nagpur  \\\n",
              "0           0.0          0.0              0.0           0.0           0.0   \n",
              "1           0.0          0.0              0.0           1.0           0.0   \n",
              "2           0.0          0.0              0.0           0.0           0.0   \n",
              "3           0.0          1.0              0.0           0.0           0.0   \n",
              "4           0.0          0.0              0.0           1.0           0.0   \n",
              "\n",
              "   Place_Noida  Place_Podicherry  Place_Pune  Country_India  \n",
              "0          0.0               0.0         0.0            1.0  \n",
              "1          0.0               0.0         0.0            1.0  \n",
              "2          0.0               0.0         0.0            1.0  \n",
              "3          0.0               0.0         0.0            1.0  \n",
              "4          0.0               0.0         0.0            1.0  "
            ]
          },
          "execution_count": 99,
          "metadata": {},
          "output_type": "execute_result"
        }
      ],
      "source": [
        "oh_encoded_df.head()"
      ]
    },
    {
      "cell_type": "code",
      "execution_count": null,
      "id": "073669cf-15cd-4344-9fb0-b4b2ea2e68d5",
      "metadata": {
        "id": "073669cf-15cd-4344-9fb0-b4b2ea2e68d5"
      },
      "outputs": [],
      "source": []
    }
  ],
  "metadata": {
    "kernelspec": {
      "display_name": "Python 3 (ipykernel)",
      "language": "python",
      "name": "python3"
    },
    "language_info": {
      "codemirror_mode": {
        "name": "ipython",
        "version": 3
      },
      "file_extension": ".py",
      "mimetype": "text/x-python",
      "name": "python",
      "nbconvert_exporter": "python",
      "pygments_lexer": "ipython3",
      "version": "3.11.7"
    },
    "colab": {
      "provenance": [],
      "include_colab_link": true
    }
  },
  "nbformat": 4,
  "nbformat_minor": 5
}